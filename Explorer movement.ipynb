{
 "cells": [
  {
   "cell_type": "code",
   "execution_count": 27,
   "metadata": {},
   "outputs": [],
   "source": [
    "def generate_points(stride, x_start, x_end, y_start, y_end, rotated=False):\n",
    "    if rotated:\n",
    "        first_half_points = [(x_start, y_start)]\n",
    "        second_half_points = [(x_end, y_end)]\n",
    "    else:\n",
    "        first_half_points = [(x_end, y_start)]\n",
    "        second_half_points = [(x_start, y_end)]\n",
    "\n",
    "    for i in range(stride, x_end-x_start, stride):\n",
    "        \n",
    "        if rotated:\n",
    "            point_a = (x_start,       y_start + i)\n",
    "            point_b = (x_start + i,   y_start    )\n",
    "            rev_point_a = (x_end - i, y_end    )\n",
    "            rev_point_b = (x_end,     y_end - i)\n",
    "        else:\n",
    "            point_a = (x_end,       y_start + i)\n",
    "            point_b = (x_end - i,   y_start    )\n",
    "            rev_point_a = (x_start + i, y_end    )\n",
    "            rev_point_b = (x_start,     y_end - i)\n",
    "\n",
    "        # Order in which points are added has to be alterned to maintain correct order.\n",
    "        if (i % (stride*2)) != 0:\n",
    "            first_half_points.append(point_a)\n",
    "            first_half_points.append(point_b)\n",
    "            second_half_points.insert(0, rev_point_a)\n",
    "            second_half_points.insert(0, rev_point_b)\n",
    "        else:\n",
    "            first_half_points.append(point_b)\n",
    "            first_half_points.append(point_a)\n",
    "            second_half_points.insert(0, rev_point_b)\n",
    "            second_half_points.insert(0, rev_point_a)\n",
    "            \n",
    "    return first_half_points + second_half_points"
   ]
  },
  {
   "cell_type": "code",
   "execution_count": 28,
   "metadata": {},
   "outputs": [],
   "source": [
    "def print_board(board):\n",
    "    for i in range(len(board)):\n",
    "        for j in range(len(board)):\n",
    "            print(board[i][j], end='')\n",
    "        print('')"
   ]
  },
  {
   "cell_type": "code",
   "execution_count": 29,
   "metadata": {},
   "outputs": [],
   "source": [
    "# IMPORTANT: Board will be indexed first by row (x), then by column (y).\n",
    "# In the Scout game it is the opposite: first column, then row! It has to be adapted.\n",
    "board = []\n",
    "points = []\n",
    "def main(n, stride, quadrant, rotated):\n",
    "    global board, points\n",
    "    half_n = int((n/2))\n",
    "    is_top_quadrant = quadrant < 2\n",
    "    is_left_quadrant = quadrant % 2 == 0\n",
    "\n",
    "    x_start = 0      if is_top_quadrant  else half_n\n",
    "    x_end   = half_n if is_top_quadrant  else n-1\n",
    "    y_start = 0      if is_left_quadrant else half_n\n",
    "    y_end   = half_n if is_left_quadrant else n-1\n",
    "\n",
    "    board = []\n",
    "    for i in range(n):\n",
    "        board.append([])\n",
    "        for j in range(n):\n",
    "            board[i].append('■')\n",
    "    \n",
    "    # Debug\n",
    "    #print(\"x_start: %d\" % x_start)\n",
    "    #print(\"x_end: %d\" % x_end)\n",
    "    #print(\"y_start: %d\" % y_start)\n",
    "    #print(\"y_end: %d\" % y_end)\n",
    "    \n",
    "    points = generate_points(stride, x_start, x_end, y_start, y_end, rotated=rotated)\n",
    "\n",
    "    for i,p in enumerate(points):\n",
    "        board[p[0]][p[1]] = i\n",
    "\n",
    "    print_board(board)"
   ]
  },
  {
   "cell_type": "code",
   "execution_count": 32,
   "metadata": {
    "scrolled": true
   },
   "outputs": [
    {
     "name": "stdout",
     "output_type": "stream",
     "text": [
      "0■■■1■■■4■■■■■■■■■■■\n",
      "■■■■■■■■■■■■■■■■■■■■\n",
      "■■■■■■■■■■5■■■■■■■■■\n",
      "■■■■■■■■■■■■■■■■■■■■\n",
      "2■■■■■■■■■■■■■■■■■■■\n",
      "■■■■■■■■■■■■■■■■■■■■\n",
      "■■■■■■■■■■8■■■■■■■■■\n",
      "■■■■■■■■■■■■■■■■■■■■\n",
      "3■■■■■■■■■■■■■■■■■■■\n",
      "■■■■■■■■■■■■■■■■■■■■\n",
      "■■6■■■7■■■9■■■■■■■■■\n",
      "■■■■■■■■■■■■■■■■■■■■\n",
      "■■■■■■■■■■■■■■■■■■■■\n",
      "■■■■■■■■■■■■■■■■■■■■\n",
      "■■■■■■■■■■■■■■■■■■■■\n",
      "■■■■■■■■■■■■■■■■■■■■\n",
      "■■■■■■■■■■■■■■■■■■■■\n",
      "■■■■■■■■■■■■■■■■■■■■\n",
      "■■■■■■■■■■■■■■■■■■■■\n",
      "■■■■■■■■■■■■■■■■■■■■\n"
     ]
    }
   ],
   "source": [
    "# First quadrant (0). 20x20 board with stride 4.\n",
    "main(20, 4, 0, True)"
   ]
  },
  {
   "cell_type": "code",
   "execution_count": 11,
   "metadata": {},
   "outputs": [
    {
     "data": {
      "text/plain": [
       "6"
      ]
     },
     "execution_count": 11,
     "metadata": {},
     "output_type": "execute_result"
    }
   ],
   "source": [
    "# Debug board positions.\n",
    "board[0][2]"
   ]
  },
  {
   "cell_type": "code",
   "execution_count": 108,
   "metadata": {},
   "outputs": [
    {
     "data": {
      "text/plain": [
       "[(10, 0),\n",
       " (10, 4),\n",
       " (6, 0),\n",
       " (2, 0),\n",
       " (10, 8),\n",
       " (8, 10),\n",
       " (0, 2),\n",
       " (0, 6),\n",
       " (4, 10),\n",
       " (0, 10)]"
      ]
     },
     "execution_count": 108,
     "metadata": {},
     "output_type": "execute_result"
    }
   ],
   "source": [
    "# Debug points.\n",
    "points"
   ]
  },
  {
   "cell_type": "code",
   "execution_count": null,
   "metadata": {},
   "outputs": [],
   "source": []
  }
 ],
 "metadata": {
  "kernelspec": {
   "display_name": "Python 3",
   "language": "python",
   "name": "python3"
  },
  "language_info": {
   "codemirror_mode": {
    "name": "ipython",
    "version": 3
   },
   "file_extension": ".py",
   "mimetype": "text/x-python",
   "name": "python",
   "nbconvert_exporter": "python",
   "pygments_lexer": "ipython3",
   "version": "3.6.3"
  }
 },
 "nbformat": 4,
 "nbformat_minor": 2
}
